{
 "cells": [
  {
   "cell_type": "markdown",
   "id": "eea66b55-b8a5-4a85-91b6-21b6aa55dc61",
   "metadata": {},
   "source": [
    "### Exercise 1\n",
    "\n",
    "dataset: kmeans_dataset.csv\n",
    "task: find the clusters"
   ]
  },
  {
   "cell_type": "markdown",
   "id": "78e46528-a019-4c8b-8aae-26817b8866ca",
   "metadata": {},
   "source": [
    "### Exercise 2\n",
    "\n",
    "dataset: high_dim_dataset.csv\n",
    "task: apply dimension reduction and find clusters"
   ]
  },
  {
   "cell_type": "code",
   "execution_count": null,
   "id": "601ad08c-b202-4f63-a53a-e7ae07de3a47",
   "metadata": {},
   "outputs": [],
   "source": []
  }
 ],
 "metadata": {
  "kernelspec": {
   "display_name": "Python 3 (ipykernel)",
   "language": "python",
   "name": "python3"
  },
  "language_info": {
   "codemirror_mode": {
    "name": "ipython",
    "version": 3
   },
   "file_extension": ".py",
   "mimetype": "text/x-python",
   "name": "python",
   "nbconvert_exporter": "python",
   "pygments_lexer": "ipython3",
   "version": "3.10.9"
  }
 },
 "nbformat": 4,
 "nbformat_minor": 5
}
