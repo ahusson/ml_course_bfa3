{
 "cells": [
  {
   "cell_type": "markdown",
   "id": "d54db9fc-24c7-458f-833e-d40c7c65404a",
   "metadata": {},
   "source": [
    "### Exercise 1\n",
    "\n",
    "- dataset: iris dataset -> https://archive.ics.uci.edu/dataset/53/iris\n",
    "- task: use a decision tree to clasify the types of plants"
   ]
  },
  {
   "cell_type": "markdown",
   "id": "fda3fa07-b8d8-496a-88c5-e8f9332bfbc3",
   "metadata": {},
   "source": [
    "### Exercise 2\n",
    "\n",
    "- dataset: breast cancer dataset -> https://archive.ics.uci.edu/dataset/17/breast+cancer+wisconsin+diagnostic\n",
    "- task: the goal is to achieve the best accuracy and recall (TP / (TP + FN)) using random forrest or boosting (python package: xgboost)"
   ]
  },
  {
   "cell_type": "markdown",
   "id": "e9ade35b-2fb4-4166-ab89-266663092ba2",
   "metadata": {},
   "source": [
    "### Exercise 3\n",
    "\n",
    "- dataset: housing_data.csv\n",
    "- task: build a predictor of housing price using decision tree or random forrest"
   ]
  }
 ],
 "metadata": {
  "kernelspec": {
   "display_name": "Python 3 (ipykernel)",
   "language": "python",
   "name": "python3"
  },
  "language_info": {
   "codemirror_mode": {
    "name": "ipython",
    "version": 3
   },
   "file_extension": ".py",
   "mimetype": "text/x-python",
   "name": "python",
   "nbconvert_exporter": "python",
   "pygments_lexer": "ipython3",
   "version": "3.10.9"
  }
 },
 "nbformat": 4,
 "nbformat_minor": 5
}
