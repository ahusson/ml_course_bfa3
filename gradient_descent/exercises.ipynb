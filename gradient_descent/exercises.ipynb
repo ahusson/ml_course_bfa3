{
 "cells": [
  {
   "cell_type": "markdown",
   "id": "fd31927d-b413-4d3a-b91f-9fbe6252674d",
   "metadata": {},
   "source": [
    "# Gradient Descent"
   ]
  },
  {
   "cell_type": "markdown",
   "id": "4a9b60a7-6b4e-4fc4-a0da-2d4e150f4142",
   "metadata": {},
   "source": [
    "## Exercise 1\n",
    "\n",
    "- write out the algorithm for gradient descent from scratch with the following interface:\n",
    "    - start_x (float): initial value\n",
    "    - learning_rate (float): the learning rate, (usually small)\n",
    "    - n_iterations (int): the number of iterations before stopping\n",
    "    - epsilon (optional float): convergence threshold, default value None, used if not None\n",
    "    - gradient: the gradient function"
   ]
  },
  {
   "cell_type": "markdown",
   "id": "f3c4de8c-4b18-4ac1-8019-9e886af7c6eb",
   "metadata": {},
   "source": [
    "## Exercise 2\n",
    "\n",
    "- test your gradient descent implementation from Exercise 1 on the following real valued function: f(x) = x ** 2 - 4 * x + 4\n",
    "    - implement the function f\n",
    "    - implement the function gradient (the derivative of f)\n",
    "    - find the global minimum of f:\n",
    "        - use x = 10 as initial value\n",
    "        - use n = 50 iterations or approve convergence using an epsilon threshold of your choice\n",
    "        - use the following learning rates: [0.01, 0.1, 1], can you explain what's happening for each"
   ]
  },
  {
   "cell_type": "markdown",
   "id": "5da90844-3fe4-421e-b6c9-fba5c0cd74b6",
   "metadata": {},
   "source": [
    "## Exercise 3\n",
    "\n",
    "- test your gradient descent implementation Exercise 1 on the following real valued function: f(x, y) = x ** 2 + y ** 2 - 4 * x - 6 * y + 13\n",
    "    - implement the function f\n",
    "    - implement the function gradient (the derivative of f) - careful, it's a vector !\n",
    "    - find the global minimum of f:\n",
    "        - use (x, y) = (5, 5) as initial value\n",
    "        - use n = 50 iterations or approve convergence using an epsilon threshold of your choice\n",
    "        - use the following learning rates: [0.01, 0.1, 1], can you explain what's happening for each"
   ]
  },
  {
   "cell_type": "markdown",
   "id": "f73b1cb0-c5be-45c5-b89a-533d562e94b4",
   "metadata": {},
   "source": [
    "## Exercise 4\n",
    "\n",
    "- test your gradient descent implementation Exercise 1 on the following real valued function: f(x) = sin(x) + 0.1 * x ** 2\n",
    "    - implement the function f\n",
    "    - implement the function gradient (the derivative of f)\n",
    "    - find the global minimum of f:\n",
    "        - use n = 100 iterations or approve convergence using an epsilon threshold of your choice\n",
    "        - use the following combinations of starting point and learning rate\n",
    "            - (start_x, learning_rate) = (-3, 0.1), (1.5, 0.1), (2.5, 0.1), (2, 0.01) - what do you notice ? What's the reason ?"
   ]
  },
  {
   "cell_type": "markdown",
   "id": "8e6331bb-e116-4167-9a90-3edb2c2369ec",
   "metadata": {},
   "source": [
    "## Exercise 5\n",
    "\n",
    "- load ex5_data.csv from the github repository into a 2-dimensional numpy array: the data consists of pairs (xi, yi)\n",
    "- create a matrix A with two columns:\n",
    "    - first column with ones\n",
    "    - second column with the xi's\n",
    "- create a vector y with the yi values.\n",
    "- implement the following function J(theta) = || A * theta - y || ^ 2 where ||.|| is the l2 norm, and theta is a 2-dimensional vector\n",
    "- implement the gradient of this function J\n",
    "- use your gradient descent implementation to find a value of theta_star such that J(theta_star) is global minimum - Why is the minimum global ?\n",
    "- plot the data points (xi, yi) using matplotlib scatter function in the color blue\n",
    "- if theta_star = (theta0, theta1), plot the graph of the following afine function f(x) = theta0 + theta1 * x using matplotlib plot method in the color red"
   ]
  }
 ],
 "metadata": {
  "kernelspec": {
   "display_name": "Python 3 (ipykernel)",
   "language": "python",
   "name": "python3"
  },
  "language_info": {
   "codemirror_mode": {
    "name": "ipython",
    "version": 3
   },
   "file_extension": ".py",
   "mimetype": "text/x-python",
   "name": "python",
   "nbconvert_exporter": "python",
   "pygments_lexer": "ipython3",
   "version": "3.10.9"
  }
 },
 "nbformat": 4,
 "nbformat_minor": 5
}
