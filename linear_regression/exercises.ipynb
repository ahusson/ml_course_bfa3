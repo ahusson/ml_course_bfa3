{
 "cells": [
  {
   "cell_type": "markdown",
   "id": "cf15561a-96f7-4f75-afa3-b0147269b64e",
   "metadata": {},
   "source": [
    "# Linear Regression - 2D (ie. 1 feature vs. 1 target)"
   ]
  },
  {
   "cell_type": "markdown",
   "id": "5b5b1e16-f0ba-43ec-b6ef-cf6eef6b935d",
   "metadata": {},
   "source": [
    "### For each linear regression exercise below, do the following:\n",
    "- solve it using the closed form formula (only for Exercise 1)\n",
    "- solve it using scikit-learn LinearRegression class (eg. from sklearn.linear_model import LinearRegression)\n",
    "- compute the R-squared and MSE using scikit-learn mean_squared_error and r2_score (eg. from sklearn.metrics import mean_squared_error, r2_score)\n",
    "- plot the data points in blue and the regression line in red using matplotlib"
   ]
  },
  {
   "cell_type": "markdown",
   "id": "1e0ec39e-582e-4b61-b50c-1e329dbec90d",
   "metadata": {},
   "source": [
    "### Exercise 1 - Real estate price prediction\n",
    "\n",
    "- Dataset: https://www.kaggle.com/datasets/quantbruce/real-estate-price-prediction\n",
    "- Regression 1: house age (feature X2) vs. house price of unit area (target y)\n",
    "- Regression 2: distance to the nearest MRT station (feature X3) vs. house price of unit area (target y)\n",
    "- Regression 3: number of convenience stores (feature X4) vs. house price of unit area (target y)\n",
    "- Question: Which feature exhibits the most predictive power ?"
   ]
  },
  {
   "cell_type": "markdown",
   "id": "891f92c1-c5c6-4ddf-a95d-72f388ee7e5d",
   "metadata": {},
   "source": [
    "### Exercise 2 - Find Beta of NVIDIA versus S&P500\n",
    "\n",
    "- use the yfinance_helper.py script to download NVIDIA (ticker: NVDA) and S&P500 (ticker: ^GSPC) data from 2018/01/01 to 2023/12/31\n",
    "- Regression: S&P500 daily returns (feature X) vs. NVIDIA daily returns (target y)\n",
    "- Question: What's the beta of the stock NVIDIA versus the S&P500"
   ]
  },
  {
   "cell_type": "markdown",
   "id": "5d374f67-2aec-4406-9e6b-07f17c3f5c98",
   "metadata": {},
   "source": [
    "### Exercise 3: Autoregression of NVIDIA stock\n",
    "\n",
    "- use the NVIDIA daily returns from Exercise 2\n",
    "- Regression 1: NVIDIA daily returns the day before (@ t - 1) vs. NVIDIA daily returns (@ t) (ie. {(S_t-1, S_t): 1 <= t< N}\n",
    "- Problem: Find the daily lag L that has the most predictive power, 1 <= L <= 10 (ie. Find L such that {(S_t-L, S_t): 1 <= t < N} has maximum R-squared"
   ]
  },
  {
   "cell_type": "markdown",
   "id": "e1d5a324-beb5-41db-ac21-649d32bb650c",
   "metadata": {},
   "source": [
    "### Exercise 4: Exponential model\n",
    "\n",
    "- load the exp_data.csv data into a pandas dataframe\n",
    "- use linear regression to fit the following model: f(x) = a * exp(b * x) where exp is the exponential function and a,b are real numbers"
   ]
  },
  {
   "cell_type": "markdown",
   "id": "5d42c8c0-1e30-4617-9c9d-ce76308875a7",
   "metadata": {},
   "source": [
    "### Exercise 5:\n",
    "\n",
    "- data: polynomial_data.csv\n",
    "- model: try fitting a * X^2 + b * Y^2 + c * X * Y + d * X + e * Y + f"
   ]
  },
  {
   "cell_type": "markdown",
   "id": "78ea8617-c1b9-4760-8ac7-ebf45cf0bd2e",
   "metadata": {},
   "source": [
    "### Exercise 6:\n",
    "\n",
    "- data: sine_wave_data.csv\n",
    "- model:\n",
    "    - try fitting a polynomial model of degree > 10 in the variable X (eg. a_10 * X^10 + ... + a_1 * X + a_0)\n",
    "    - Optional: try adding regularization (ie. minimize ||y - y_hat(theta)||^2 + lambda * ||theta|| where ||.|| is the l2 norm)"
   ]
  },
  {
   "cell_type": "markdown",
   "id": "c140a3e1-48c3-4b7b-b6a3-2b0f4b0bd6a7",
   "metadata": {},
   "source": [
    "### Exercise 7\n",
    "\n",
    "- data: Choose a **multivariate regression** dataset from https://archive.ics.uci.edu/\n",
    "- model 1:\n",
    "    - fit a LinearRegression model using scikit-learn\n",
    "    - measure the model by computing MSE, Bias^2, and Variance\n",
    "- model 2:\n",
    "    - fit a Ridge or Lasso model using scikit-learn\n",
    "    - measure the model by computing MSE, Bias^2, and Variance\n",
    "- model 3:\n",
    "    - use a scikit-learn pipeline to normalize the data\n",
    "    - use scikit-learn GridSearch with a Ridge or Lasso model and use 2 cross-validation steps\n",
    "    - measure the model by computing MSE, Bias^2, and Variance"
   ]
  },
  {
   "cell_type": "markdown",
   "id": "37b626a8-8a5e-4ed6-ab68-14e2b6f61eb2",
   "metadata": {},
   "source": [
    "### Exercise 8: Autoregression of NVIDIA stock (follow-up)\n",
    "\n",
    "- use the NVIDIA daily returns from Exercise 2 and try finding a better predictive model\n",
    "- can you use your predictions to backtest a 1-day buy and hold strategy ?"
   ]
  },
  {
   "cell_type": "code",
   "execution_count": null,
   "id": "a9462a42-e45b-4601-ac96-7e64c85ae8d0",
   "metadata": {},
   "outputs": [],
   "source": []
  }
 ],
 "metadata": {
  "kernelspec": {
   "display_name": "Python 3 (ipykernel)",
   "language": "python",
   "name": "python3"
  },
  "language_info": {
   "codemirror_mode": {
    "name": "ipython",
    "version": 3
   },
   "file_extension": ".py",
   "mimetype": "text/x-python",
   "name": "python",
   "nbconvert_exporter": "python",
   "pygments_lexer": "ipython3",
   "version": "3.10.9"
  }
 },
 "nbformat": 4,
 "nbformat_minor": 5
}
