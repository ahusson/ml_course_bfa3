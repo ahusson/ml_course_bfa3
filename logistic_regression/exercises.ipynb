{
 "cells": [
  {
   "cell_type": "markdown",
   "id": "dbc9ec83-d140-4352-9b1a-5cf9fa6da96e",
   "metadata": {},
   "source": [
    "### Exercise 1\n",
    "\n",
    "- dataset: https://archive.ics.uci.edu/dataset/53/iris\n",
    "- task: use the Iris dataset (binary classification case, so you can limit it to only two classes, e.g., Setosa vs. Versicolor) and perform logistic regression with 30% test data to classify the flowers into two categories based on their features (sepal and petal lengths and widths)."
   ]
  },
  {
   "cell_type": "markdown",
   "id": "8e349ea2-5ec9-4bc4-903c-1ddf41e22941",
   "metadata": {},
   "source": [
    "### Exercise 2\n",
    "\n",
    "- dataset: https://archive.ics.uci.edu/dataset/17/breast+cancer+wisconsin+diagnostic\n",
    "- task: use the Breast Cancer dataset to predict cancer diagnosis."
   ]
  },
  {
   "cell_type": "markdown",
   "id": "ad4877c2-ccda-4f30-b310-3fdef59e7197",
   "metadata": {},
   "source": [
    "### Exercise 3\n",
    "\n",
    "- dataset: returns.csv\n",
    "- task: use the features Stock_1 and Stock_2 to classify whether Stock_3 went up on that day."
   ]
  },
  {
   "cell_type": "markdown",
   "id": "98688782-bfa3-41e0-9b60-d4f591a22991",
   "metadata": {},
   "source": [
    "### Exercise 4\n",
    "\n",
    "- dataset: simpson_paradox.csv\n",
    "- task 1: use linear regression to find a model for the col1 and col2 features\n",
    "- task 2: try combining linear regression and logistic regression to improve your model"
   ]
  },
  {
   "cell_type": "code",
   "execution_count": null,
   "id": "edd24362-2723-497e-b405-d8435b5e2d6c",
   "metadata": {},
   "outputs": [],
   "source": []
  }
 ],
 "metadata": {
  "kernelspec": {
   "display_name": "Python 3 (ipykernel)",
   "language": "python",
   "name": "python3"
  },
  "language_info": {
   "codemirror_mode": {
    "name": "ipython",
    "version": 3
   },
   "file_extension": ".py",
   "mimetype": "text/x-python",
   "name": "python",
   "nbconvert_exporter": "python",
   "pygments_lexer": "ipython3",
   "version": "3.10.9"
  }
 },
 "nbformat": 4,
 "nbformat_minor": 5
}
