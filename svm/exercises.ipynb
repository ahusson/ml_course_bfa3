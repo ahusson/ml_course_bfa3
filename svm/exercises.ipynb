{
 "cells": [
  {
   "cell_type": "markdown",
   "id": "df6cfbd0-6c10-4a92-91ad-a6f17b3c0f26",
   "metadata": {},
   "source": [
    "### Exercise 1\n",
    "\n",
    "- dataset: linearly_separable_data.csv\n",
    "- task: Train an SVM on the dataset and plot the data and the separator"
   ]
  },
  {
   "cell_type": "markdown",
   "id": "2c39c4ea-37c6-4569-8f96-de5c1f955150",
   "metadata": {},
   "source": [
    "### Exercise 2\n",
    "\n",
    "- dataset: non_linearly_separable_data.csv\n",
    "- task 1: Train, cross validate, test a soft margin SVM using the kernel of your choice and parameter C\n",
    "- task 2: Create a Pipeline to optimize for the hyperparameter C (using grid search for example)"
   ]
  },
  {
   "cell_type": "markdown",
   "id": "ede23d1c-2112-4a67-89ec-d4d85d7172fc",
   "metadata": {},
   "source": [
    "### Exercise 3\n",
    "\n",
    "- dataset: https://archive.ics.uci.edu/dataset/350/default+of+credit+card+clients\n",
    "- task: Create an SVM Pipeline to classify for credit card defaults\n",
    "\n",
    "If execution time is too long:\n",
    "- dimension (columns): either select a subset of features, or use dimensionality reduction (eg. PCA)\n",
    "- data point (rows): train cross validate on small subsets"
   ]
  },
  {
   "cell_type": "code",
   "execution_count": null,
   "id": "7ae7121e-1e66-4d8b-a20e-1ace49a85588",
   "metadata": {},
   "outputs": [],
   "source": []
  }
 ],
 "metadata": {
  "kernelspec": {
   "display_name": "Python 3 (ipykernel)",
   "language": "python",
   "name": "python3"
  },
  "language_info": {
   "codemirror_mode": {
    "name": "ipython",
    "version": 3
   },
   "file_extension": ".py",
   "mimetype": "text/x-python",
   "name": "python",
   "nbconvert_exporter": "python",
   "pygments_lexer": "ipython3",
   "version": "3.10.9"
  }
 },
 "nbformat": 4,
 "nbformat_minor": 5
}
